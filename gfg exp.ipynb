{
 "cells": [
  {
   "cell_type": "code",
   "execution_count": 1,
   "id": "57204ec7",
   "metadata": {},
   "outputs": [],
   "source": [
    "from tkinter import *"
   ]
  },
  {
   "cell_type": "code",
   "execution_count": 2,
   "id": "3a03b248",
   "metadata": {},
   "outputs": [],
   "source": [
    "root = Tk()"
   ]
  },
  {
   "cell_type": "code",
   "execution_count": 3,
   "id": "0ba362e9",
   "metadata": {},
   "outputs": [],
   "source": [
    "root.title(\"Welcome to GeekForGeeks\")\n",
    "root.geometry('350x200')\n",
    "lbl = Label(root,text='Are you a geek?')\n",
    "lbl.grid()\n",
    "txt = Entry(root,width=10)\n",
    "txt.grid(column= 1,row=0)"
   ]
  },
  {
   "cell_type": "code",
   "execution_count": 4,
   "id": "29d8ba52",
   "metadata": {},
   "outputs": [],
   "source": [
    "menu = Menu(root)\n",
    "item = Menu(menu)\n",
    "item.add_command(label = 'New')\n",
    "menu.add_cascade(label= 'File', menu= item)\n",
    "root.config(menu=menu)"
   ]
  },
  {
   "cell_type": "code",
   "execution_count": 5,
   "id": "0dfbd19f",
   "metadata": {},
   "outputs": [],
   "source": [
    "def clicked():\n",
    "    lbl.configre(text= 'I just got clicked')\n",
    "    \n",
    "btn = Button(root,text = 'Click me',fg = 'red',command = clicked)\n",
    "btn.grid(column=2,row=0)"
   ]
  },
  {
   "cell_type": "code",
   "execution_count": null,
   "id": "245eafa2",
   "metadata": {},
   "outputs": [
    {
     "name": "stderr",
     "output_type": "stream",
     "text": [
      "Exception in Tkinter callback\n",
      "Traceback (most recent call last):\n",
      "  File \"C:\\python3.11\\Lib\\tkinter\\__init__.py\", line 1948, in __call__\n",
      "    return self.func(*args)\n",
      "           ^^^^^^^^^^^^^^^^\n",
      "  File \"C:\\Users\\Admin\\AppData\\Local\\Temp\\ipykernel_2696\\3347811458.py\", line 2, in clicked\n",
      "    lbl.configre(text= 'I just got clicked')\n",
      "    ^^^^^^^^^^^^\n",
      "AttributeError: 'Label' object has no attribute 'configre'\n"
     ]
    }
   ],
   "source": [
    "root.mainloop()"
   ]
  }
 ],
 "metadata": {
  "kernelspec": {
   "display_name": "Python 3 (ipykernel)",
   "language": "python",
   "name": "python3"
  },
  "language_info": {
   "codemirror_mode": {
    "name": "ipython",
    "version": 3
   },
   "file_extension": ".py",
   "mimetype": "text/x-python",
   "name": "python",
   "nbconvert_exporter": "python",
   "pygments_lexer": "ipython3",
   "version": "3.11.1"
  }
 },
 "nbformat": 4,
 "nbformat_minor": 5
}
