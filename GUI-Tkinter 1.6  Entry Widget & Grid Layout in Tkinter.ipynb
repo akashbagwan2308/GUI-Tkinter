{
 "cells": [
  {
   "cell_type": "markdown",
   "id": "f3e9d586",
   "metadata": {},
   "source": [
    "# Python GUI-Tkinter"
   ]
  },
  {
   "cell_type": "markdown",
   "id": "1743973a",
   "metadata": {},
   "source": [
    "##### Tutorial - 6"
   ]
  },
  {
   "cell_type": "markdown",
   "id": "d8348515",
   "metadata": {},
   "source": [
    "## Entry Widget & Grid Layout in Tkinter"
   ]
  },
  {
   "cell_type": "code",
   "execution_count": 1,
   "id": "b1a7e050",
   "metadata": {},
   "outputs": [],
   "source": [
    "from tkinter import *"
   ]
  },
  {
   "cell_type": "code",
   "execution_count": 2,
   "id": "9b04b006",
   "metadata": {},
   "outputs": [],
   "source": [
    "root = Tk()"
   ]
  },
  {
   "cell_type": "code",
   "execution_count": 3,
   "id": "18ed24d5",
   "metadata": {},
   "outputs": [],
   "source": [
    "root.geometry('655x333')\n",
    "user = Label(root,text = 'Username')\n",
    "password = Label(root,text = 'Password')\n",
    "\n",
    "user.grid()\n",
    "password.grid()\n"
   ]
  },
  {
   "cell_type": "code",
   "execution_count": 4,
   "id": "c3d64514",
   "metadata": {},
   "outputs": [],
   "source": [
    "def getvalue():\n",
    "    print(uservalue.get())\n",
    "    print(passvalue.get())"
   ]
  },
  {
   "cell_type": "markdown",
   "id": "9fe6e69e",
   "metadata": {},
   "source": [
    "Variable classes in tkinter --> \n",
    "BooleanVar, DoubleVar, IntVar, StringVar"
   ]
  },
  {
   "cell_type": "code",
   "execution_count": 5,
   "id": "6a7d1e37",
   "metadata": {},
   "outputs": [],
   "source": [
    "# Entry Widget\n",
    "uservalue = StringVar()\n",
    "passvalue = StringVar()\n",
    "\n",
    "userentry = Entry(root,textvariable = uservalue)\n",
    "passentry = Entry(root,textvariable = passvalue)\n",
    "\n",
    "userentry.grid(row= 0,column =1)\n",
    "passentry.grid(row = 1,column =1)"
   ]
  },
  {
   "cell_type": "code",
   "execution_count": 6,
   "id": "a84adf14",
   "metadata": {},
   "outputs": [],
   "source": [
    "# Button\n",
    "Button(text = 'Submit',command = getvalue).grid()\n"
   ]
  },
  {
   "cell_type": "code",
   "execution_count": 7,
   "id": "b97cbc13",
   "metadata": {},
   "outputs": [
    {
     "name": "stdout",
     "output_type": "stream",
     "text": [
      "akash\n",
      "bagwan\n"
     ]
    }
   ],
   "source": [
    "root.mainloop()"
   ]
  },
  {
   "cell_type": "code",
   "execution_count": null,
   "id": "f43747a1",
   "metadata": {},
   "outputs": [],
   "source": []
  },
  {
   "cell_type": "code",
   "execution_count": null,
   "id": "a14d7384",
   "metadata": {},
   "outputs": [],
   "source": []
  }
 ],
 "metadata": {
  "kernelspec": {
   "display_name": "Python 3 (ipykernel)",
   "language": "python",
   "name": "python3"
  },
  "language_info": {
   "codemirror_mode": {
    "name": "ipython",
    "version": 3
   },
   "file_extension": ".py",
   "mimetype": "text/x-python",
   "name": "python",
   "nbconvert_exporter": "python",
   "pygments_lexer": "ipython3",
   "version": "3.11.1"
  }
 },
 "nbformat": 4,
 "nbformat_minor": 5
}
