{
 "cells": [
  {
   "cell_type": "markdown",
   "id": "cff4625e",
   "metadata": {},
   "source": [
    "# Python GUI-Tkinter"
   ]
  },
  {
   "cell_type": "markdown",
   "id": "0f07820c",
   "metadata": {},
   "source": [
    "##### Tutorial - 5"
   ]
  },
  {
   "cell_type": "markdown",
   "id": "2d02ebbb",
   "metadata": {},
   "source": [
    "## Packing Button in Tkinter"
   ]
  },
  {
   "cell_type": "code",
   "execution_count": 1,
   "id": "558bdd44",
   "metadata": {},
   "outputs": [],
   "source": [
    "from tkinter import *"
   ]
  },
  {
   "cell_type": "code",
   "execution_count": 2,
   "id": "92dd2738",
   "metadata": {},
   "outputs": [],
   "source": [
    "root = Tk()"
   ]
  },
  {
   "cell_type": "code",
   "execution_count": 3,
   "id": "48b9a641",
   "metadata": {},
   "outputs": [],
   "source": [
    "root.geometry('655x333')\n",
    "\n",
    "frame = Frame(root,borderwidth =6,bg = 'grey',relief = SUNKEN)\n",
    "frame.pack(side = LEFT,anchor ='nw')\n"
   ]
  },
  {
   "cell_type": "code",
   "execution_count": 4,
   "id": "26b44846",
   "metadata": {},
   "outputs": [],
   "source": [
    "def hello():\n",
    "    print(\"Hello TKinter Buttons\")\n",
    "def name():\n",
    "    print(\"Name is Akash Bagwan\")"
   ]
  },
  {
   "cell_type": "code",
   "execution_count": 5,
   "id": "f187ddf6",
   "metadata": {},
   "outputs": [],
   "source": [
    "# Button Creation\n",
    "b1 = Button(frame,fg = 'red',text = 'Print Now',command = hello)\n",
    "b1.pack(side = LEFT,padx = 23)\n",
    "b2 = Button(frame,fg = 'red',text = 'Tell me Name Now',command = name)\n",
    "b2.pack(side = LEFT,padx = 23)\n",
    "b3 = Button(frame,fg = 'red',text = 'Print Now')\n",
    "b3.pack(side = LEFT,padx = 23)\n",
    "b4 = Button(frame,fg = 'red',text = 'Print Now')\n",
    "b4.pack(side = LEFT,padx = 23)"
   ]
  },
  {
   "cell_type": "code",
   "execution_count": null,
   "id": "8fbe73b6",
   "metadata": {},
   "outputs": [],
   "source": []
  },
  {
   "cell_type": "code",
   "execution_count": 6,
   "id": "e0d2dce7",
   "metadata": {},
   "outputs": [
    {
     "name": "stdout",
     "output_type": "stream",
     "text": [
      "Name is Akash Bagwan\n",
      "Hello TKinter Buttons\n"
     ]
    }
   ],
   "source": [
    "root.mainloop()"
   ]
  },
  {
   "cell_type": "code",
   "execution_count": null,
   "id": "598844a4",
   "metadata": {},
   "outputs": [],
   "source": []
  }
 ],
 "metadata": {
  "kernelspec": {
   "display_name": "Python 3 (ipykernel)",
   "language": "python",
   "name": "python3"
  },
  "language_info": {
   "codemirror_mode": {
    "name": "ipython",
    "version": 3
   },
   "file_extension": ".py",
   "mimetype": "text/x-python",
   "name": "python",
   "nbconvert_exporter": "python",
   "pygments_lexer": "ipython3",
   "version": "3.11.1"
  }
 },
 "nbformat": 4,
 "nbformat_minor": 5
}
