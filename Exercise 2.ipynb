{
 "cells": [
  {
   "cell_type": "markdown",
   "id": "445bcac3",
   "metadata": {},
   "source": [
    "# Python GUI-Tkinter"
   ]
  },
  {
   "cell_type": "markdown",
   "id": "14735232",
   "metadata": {},
   "source": [
    "Exercise 2"
   ]
  },
  {
   "cell_type": "markdown",
   "id": "9a6487fa",
   "metadata": {},
   "source": [
    "##### resize window acc. to i/p"
   ]
  },
  {
   "cell_type": "code",
   "execution_count": 1,
   "id": "7d168e1a",
   "metadata": {},
   "outputs": [],
   "source": [
    "from tkinter import *"
   ]
  },
  {
   "cell_type": "code",
   "execution_count": 2,
   "id": "d9819cb7",
   "metadata": {},
   "outputs": [],
   "source": [
    "root = Tk()"
   ]
  },
  {
   "cell_type": "code",
   "execution_count": 3,
   "id": "918a4ada",
   "metadata": {},
   "outputs": [],
   "source": [
    "width = 700\n",
    "height = 250"
   ]
  },
  {
   "cell_type": "code",
   "execution_count": 4,
   "id": "1592677c",
   "metadata": {},
   "outputs": [],
   "source": [
    "def resize():\n",
    "    width = f\"{w.get()}\"\n",
    "    height = f\"{h.get()}\"\n",
    "    print(width,height)\n",
    "    root.geometry(f'{width}x{height}')\n",
    "    "
   ]
  },
  {
   "cell_type": "code",
   "execution_count": 5,
   "id": "8ace8cec",
   "metadata": {},
   "outputs": [],
   "source": [
    "root.geometry(f'{width}x{height}')\n",
    "Label(root,text = 'Resize Your GUI Window', pady = 20,font = 'comicsansms 30 bold').grid(row = 0,column = 1)\n",
    "\n",
    "Label(root,text = 'Enter New Width',pady = 2,font = 'comicsansms 10 bold').grid(row = 1,column = 0)\n",
    "Label(root,text = 'Enter New Hieght',pady = 5,font = 'comicsansms 10 bold').grid(row = 2,column = 0)\n",
    "\n",
    "w = StringVar()\n",
    "h = StringVar()\n",
    "\n",
    "wvalue = Entry(root,textvariable = w)\n",
    "hvalue = Entry(root,textvariable = h)\n",
    "\n",
    "wvalue.grid(row=1,column=1)\n",
    "hvalue.grid(row=2,column =1)\n",
    "\n",
    "\n",
    "Button(text = 'Resize Window',font = 'comicsansms 10 bold',command = resize).grid(row= 3,column = 1,pady = 8)"
   ]
  },
  {
   "cell_type": "code",
   "execution_count": 6,
   "id": "02d2e385",
   "metadata": {},
   "outputs": [
    {
     "name": "stdout",
     "output_type": "stream",
     "text": [
      "900 500\n",
      "900 5000\n",
      "90000 500\n",
      "9000000 500\n",
      "900 500\n"
     ]
    }
   ],
   "source": [
    "root.mainloop()"
   ]
  }
 ],
 "metadata": {
  "kernelspec": {
   "display_name": "Python 3 (ipykernel)",
   "language": "python",
   "name": "python3"
  },
  "language_info": {
   "codemirror_mode": {
    "name": "ipython",
    "version": 3
   },
   "file_extension": ".py",
   "mimetype": "text/x-python",
   "name": "python",
   "nbconvert_exporter": "python",
   "pygments_lexer": "ipython3",
   "version": "3.11.1"
  }
 },
 "nbformat": 4,
 "nbformat_minor": 5
}
