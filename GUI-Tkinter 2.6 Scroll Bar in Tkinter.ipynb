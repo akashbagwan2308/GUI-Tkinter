{
 "cells": [
  {
   "cell_type": "markdown",
   "id": "81f3a5a7",
   "metadata": {},
   "source": [
    "# Python GUI-Tkinter "
   ]
  },
  {
   "cell_type": "markdown",
   "id": "7f9ddff1",
   "metadata": {},
   "source": [
    "##### Tutorial - 16"
   ]
  },
  {
   "cell_type": "markdown",
   "id": "57203d6c",
   "metadata": {},
   "source": [
    "## Scroll Bar in Tkinter"
   ]
  },
  {
   "cell_type": "code",
   "execution_count": 1,
   "id": "5012423d",
   "metadata": {},
   "outputs": [],
   "source": [
    "from tkinter import *"
   ]
  },
  {
   "cell_type": "code",
   "execution_count": 2,
   "id": "c67178fb",
   "metadata": {},
   "outputs": [],
   "source": [
    "root = Tk()"
   ]
  },
  {
   "cell_type": "code",
   "execution_count": null,
   "id": "5ebdc3c7",
   "metadata": {},
   "outputs": [],
   "source": []
  },
  {
   "cell_type": "code",
   "execution_count": 3,
   "id": "048b07f8",
   "metadata": {},
   "outputs": [],
   "source": [
    "root.geometry('655x333')\n",
    "root.title('Scroll Bar Tut')\n",
    "# for connecting a scroll bar ot a widget\n",
    "# 1 widget (yscrollcommand = scrollbar.set\n",
    "#2. scrollbar.config(command= widget.yview)\n",
    "scrollbar = Scrollbar(root)\n",
    "scrollbar.pack(side = RIGHT,fill = 'y')\n",
    "\n",
    "\n",
    "listbox = Listbox(root,yscrollcommand = scrollbar.set)\n",
    "for i in range(344):\n",
    "    listbox.insert(END,f'Item{i}')\n",
    "    \n",
    "\n",
    "    \n",
    "listbox.pack(fill = 'both',padx = 15,pady = 15)\n",
    "scrollbar.config(command=listbox.yview)\n",
    "\n"
   ]
  },
  {
   "cell_type": "code",
   "execution_count": 4,
   "id": "ddad0293",
   "metadata": {},
   "outputs": [],
   "source": [
    "root.mainloop()"
   ]
  },
  {
   "cell_type": "code",
   "execution_count": null,
   "id": "d3961576",
   "metadata": {},
   "outputs": [],
   "source": []
  }
 ],
 "metadata": {
  "kernelspec": {
   "display_name": "Python 3 (ipykernel)",
   "language": "python",
   "name": "python3"
  },
  "language_info": {
   "codemirror_mode": {
    "name": "ipython",
    "version": 3
   },
   "file_extension": ".py",
   "mimetype": "text/x-python",
   "name": "python",
   "nbconvert_exporter": "python",
   "pygments_lexer": "ipython3",
   "version": "3.11.1"
  }
 },
 "nbformat": 4,
 "nbformat_minor": 5
}
