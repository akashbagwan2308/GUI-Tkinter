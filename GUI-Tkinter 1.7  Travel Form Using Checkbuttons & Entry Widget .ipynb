{
 "cells": [
  {
   "cell_type": "markdown",
   "id": "f3e9d586",
   "metadata": {},
   "source": [
    "# Python GUI-Tkinter"
   ]
  },
  {
   "cell_type": "markdown",
   "id": "1743973a",
   "metadata": {},
   "source": [
    "##### Tutorial - 7"
   ]
  },
  {
   "cell_type": "markdown",
   "id": "d8348515",
   "metadata": {},
   "source": [
    "## Travel Form Using Checkbuttons & Entry Widget "
   ]
  },
  {
   "cell_type": "code",
   "execution_count": 1,
   "id": "b1a7e050",
   "metadata": {},
   "outputs": [],
   "source": [
    "from tkinter import *"
   ]
  },
  {
   "cell_type": "code",
   "execution_count": 2,
   "id": "9b04b006",
   "metadata": {},
   "outputs": [],
   "source": [
    "root = Tk()"
   ]
  },
  {
   "cell_type": "code",
   "execution_count": 3,
   "id": "26d12d89",
   "metadata": {},
   "outputs": [],
   "source": [
    "def getvals():\n",
    "    print('It works')\n",
    "    \n",
    "    "
   ]
  },
  {
   "cell_type": "code",
   "execution_count": 4,
   "id": "18ed24d5",
   "metadata": {},
   "outputs": [],
   "source": [
    "root.geometry('410x344')\n",
    "# Heading\n",
    "Label(root,text = 'Welcome to Akash Travels',font = 'comicsansms 13 bold',pady = 15).grid(row= 0,column = 3)\n",
    "\n",
    "# text for form\n",
    "name = Label(root,text = \"Name\")\n",
    "phone = Label(root,text = \"Phone\")\n",
    "gender = Label(root,text = \"Gender\")\n",
    "emergency = Label(root,text = \"Emergency Contact\")\n",
    "payment = Label(root,text = \"Payment Mode\")\n",
    "\n",
    "# packing using grid()\n",
    "name.grid(row=1,column = 2)\n",
    "phone.grid(row=2,column = 2)\n",
    "gender.grid(row=3,column = 2)\n",
    "emergency.grid(row=4,column = 2)\n",
    "payment.grid(row=5,column = 2)\n",
    "\n",
    "# Tkinter variables to store entries\n",
    "nameval = StringVar()\n",
    "phoneval = StringVar()\n",
    "genderval = StringVar()\n",
    "emergencyval = StringVar()\n",
    "paymentval = StringVar()\n",
    "foodsevval = IntVar()\n",
    "\n",
    "# Entries for form\n",
    "nameentry = Entry(root,textvariable = nameval)\n",
    "phoneentry = Entry(root,textvariable = phoneval)\n",
    "genderentry = Entry(root,textvariable = genderval)\n",
    "emergencyentry = Entry(root,textvariable = emergencyval)\n",
    "paymententry = Entry(root,textvariable = paymentval)\n",
    "\n",
    "# paking entries\n",
    "nameentry.grid(row =1,column = 3)\n",
    "phoneentry.grid(row =2,column = 3)\n",
    "genderentry.grid(row =3,column = 3)\n",
    "emergencyentry.grid(row =4,column = 3)\n",
    "paymententry.grid(row =5,column = 3)\n",
    "\n",
    "# checkbox\n",
    "foodservice = Checkbutton(text = 'Want to prebook your meals?',variable = foodsevval,pady = 5)\n",
    "foodservice.grid(row =6,column = 3) \n",
    "\n",
    "# button \n",
    "Button(text = \"Submit\",command = getvals).grid(row=7,column = 3, pady = 5)\n"
   ]
  },
  {
   "cell_type": "code",
   "execution_count": null,
   "id": "b97cbc13",
   "metadata": {},
   "outputs": [],
   "source": [
    "root.mainloop()"
   ]
  },
  {
   "cell_type": "code",
   "execution_count": null,
   "id": "f43747a1",
   "metadata": {},
   "outputs": [],
   "source": []
  },
  {
   "cell_type": "code",
   "execution_count": null,
   "id": "a14d7384",
   "metadata": {},
   "outputs": [],
   "source": []
  }
 ],
 "metadata": {
  "kernelspec": {
   "display_name": "Python 3 (ipykernel)",
   "language": "python",
   "name": "python3"
  },
  "language_info": {
   "codemirror_mode": {
    "name": "ipython",
    "version": 3
   },
   "file_extension": ".py",
   "mimetype": "text/x-python",
   "name": "python",
   "nbconvert_exporter": "python",
   "pygments_lexer": "ipython3",
   "version": "3.11.1"
  }
 },
 "nbformat": 4,
 "nbformat_minor": 5
}
