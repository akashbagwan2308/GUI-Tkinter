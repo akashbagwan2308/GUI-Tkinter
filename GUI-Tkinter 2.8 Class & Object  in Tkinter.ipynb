{
 "cells": [
  {
   "cell_type": "markdown",
   "id": "81f3a5a7",
   "metadata": {},
   "source": [
    "# Python GUI-Tkinter "
   ]
  },
  {
   "cell_type": "markdown",
   "id": "7f9ddff1",
   "metadata": {},
   "source": [
    "##### Tutorial - 18"
   ]
  },
  {
   "cell_type": "markdown",
   "id": "57203d6c",
   "metadata": {},
   "source": [
    "## Class & Object  in Tkinter"
   ]
  },
  {
   "cell_type": "code",
   "execution_count": 1,
   "id": "5012423d",
   "metadata": {},
   "outputs": [],
   "source": [
    "from tkinter import *"
   ]
  },
  {
   "cell_type": "code",
   "execution_count": null,
   "id": "c67178fb",
   "metadata": {},
   "outputs": [],
   "source": []
  },
  {
   "cell_type": "code",
   "execution_count": 2,
   "id": "5ebdc3c7",
   "metadata": {},
   "outputs": [],
   "source": [
    "class GUI(Tk):\n",
    "    def __init__(self):\n",
    "        super().__init__()\n",
    "        self.geometry('455x600')\n",
    "    def status(self):\n",
    "        self.var = StringVar()\n",
    "        self.var.set('Ready')\n",
    "        self.statusbar = Label(self,textvar=self.var,relief = SUNKEN,anchor='w')\n",
    "        self.statusbar.pack(side = BOTTOM, fill = X)\n",
    "    def click(self):\n",
    "        print(\"Button clicked\")\n",
    "        \n",
    "    def button(self,text):\n",
    "        Button(text =text,command= self.click).pack()"
   ]
  },
  {
   "cell_type": "code",
   "execution_count": 3,
   "id": "048b07f8",
   "metadata": {},
   "outputs": [
    {
     "name": "stdout",
     "output_type": "stream",
     "text": [
      "Button clicked\n",
      "Button clicked\n"
     ]
    }
   ],
   "source": [
    "if __name__ == '__main__':\n",
    "    window = GUI()\n",
    "    window.status()\n",
    "    window.button('Click Me')\n",
    "    window.mainloop()\n",
    "\n",
    "\n"
   ]
  },
  {
   "cell_type": "code",
   "execution_count": null,
   "id": "ddad0293",
   "metadata": {},
   "outputs": [],
   "source": []
  },
  {
   "cell_type": "code",
   "execution_count": null,
   "id": "d3961576",
   "metadata": {},
   "outputs": [],
   "source": []
  }
 ],
 "metadata": {
  "kernelspec": {
   "display_name": "Python 3 (ipykernel)",
   "language": "python",
   "name": "python3"
  },
  "language_info": {
   "codemirror_mode": {
    "name": "ipython",
    "version": 3
   },
   "file_extension": ".py",
   "mimetype": "text/x-python",
   "name": "python",
   "nbconvert_exporter": "python",
   "pygments_lexer": "ipython3",
   "version": "3.11.1"
  }
 },
 "nbformat": 4,
 "nbformat_minor": 5
}
