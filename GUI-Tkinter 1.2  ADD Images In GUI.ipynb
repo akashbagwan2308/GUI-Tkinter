{
 "cells": [
  {
   "cell_type": "markdown",
   "id": "55849641",
   "metadata": {},
   "source": [
    "# Python GUI-Tkinter "
   ]
  },
  {
   "cell_type": "markdown",
   "id": "0043bf07",
   "metadata": {},
   "source": [
    "##### Tutorial - 2"
   ]
  },
  {
   "cell_type": "markdown",
   "id": "053120f0",
   "metadata": {},
   "source": [
    "## ADD Images In GUI"
   ]
  },
  {
   "cell_type": "code",
   "execution_count": 6,
   "id": "c0afadfe",
   "metadata": {},
   "outputs": [],
   "source": [
    "from tkinter import *\n",
    "from PIL import Image,ImageTk    # it helps to add photo with extension .jpg"
   ]
  },
  {
   "cell_type": "code",
   "execution_count": 7,
   "id": "365c1cc6",
   "metadata": {},
   "outputs": [],
   "source": [
    "root = Tk()"
   ]
  },
  {
   "cell_type": "code",
   "execution_count": 8,
   "id": "72dea3e3",
   "metadata": {},
   "outputs": [],
   "source": [
    "root.geometry('600x600')\n",
    "photo =PhotoImage(file='Profile.png')  # it adds photo to your gui window\n",
    "# image = Image.open('photo.jpg')\n",
    "# photo = ImageTk.PhotoImage(image)\n",
    "label = Label(image=photo)\n",
    "label.pack()"
   ]
  },
  {
   "cell_type": "code",
   "execution_count": 9,
   "id": "c61c90f3",
   "metadata": {},
   "outputs": [],
   "source": [
    "root.mainloop()"
   ]
  },
  {
   "cell_type": "code",
   "execution_count": null,
   "id": "21e9c816",
   "metadata": {},
   "outputs": [],
   "source": []
  }
 ],
 "metadata": {
  "kernelspec": {
   "display_name": "Python 3 (ipykernel)",
   "language": "python",
   "name": "python3"
  },
  "language_info": {
   "codemirror_mode": {
    "name": "ipython",
    "version": 3
   },
   "file_extension": ".py",
   "mimetype": "text/x-python",
   "name": "python",
   "nbconvert_exporter": "python",
   "pygments_lexer": "ipython3",
   "version": "3.11.1"
  }
 },
 "nbformat": 4,
 "nbformat_minor": 5
}
