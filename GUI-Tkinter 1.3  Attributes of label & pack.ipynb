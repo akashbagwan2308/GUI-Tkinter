{
 "cells": [
  {
   "cell_type": "markdown",
   "id": "1cc9a658",
   "metadata": {},
   "source": [
    "# Python GUI-Tkinter "
   ]
  },
  {
   "cell_type": "markdown",
   "id": "88c9ec8e",
   "metadata": {},
   "source": [
    "##### Tutorial - 3"
   ]
  },
  {
   "cell_type": "markdown",
   "id": "a58ed897",
   "metadata": {},
   "source": [
    "## Attributes of label & pack"
   ]
  },
  {
   "cell_type": "code",
   "execution_count": 1,
   "id": "1084ca07",
   "metadata": {},
   "outputs": [],
   "source": [
    "from tkinter import *"
   ]
  },
  {
   "cell_type": "code",
   "execution_count": 2,
   "id": "0022d31c",
   "metadata": {},
   "outputs": [],
   "source": [
    "root = Tk()"
   ]
  },
  {
   "cell_type": "code",
   "execution_count": 3,
   "id": "f436264b",
   "metadata": {},
   "outputs": [
    {
     "data": {
      "text/plain": [
       "''"
      ]
     },
     "execution_count": 3,
     "metadata": {},
     "output_type": "execute_result"
    }
   ],
   "source": [
    "root.geometry('444x233')\n",
    "root.title('My GUI Tuts')"
   ]
  },
  {
   "cell_type": "markdown",
   "id": "e6fa479f",
   "metadata": {},
   "source": [
    "Important Label options-->\n",
    "<li>bd - Background\n",
    "<li>fg - foreground\n",
    "<li>font - sets of font->>\n",
    "    <li>1.font =('timesnewroman',12,'bold')\n",
    "    <li>2.font ='timesnewroman 12 bold'\n",
    "<li>padx - x padding\n",
    "<li>pady - y padding \n",
    "<li>relief - border stryling -SUNKEN,RAISED,GROOVE,RIDGE\n",
    "\n"
   ]
  },
  {
   "cell_type": "code",
   "execution_count": 4,
   "id": "3a925e2f",
   "metadata": {},
   "outputs": [],
   "source": [
    "title = Label(text ='''J.A.R.V.I.S. (Just A Rather Very Intelligent System) \n",
    "is a fictional character voiced by Paul Bettany in the Marvel Cinematic \n",
    "Universe (MCU) film franchise, based on the Marvel Comics characters Edwin \n",
    "Jarvis and H.O.M.E.R., respectively the household butler of the Stark \n",
    "family and another AI designed by Stark. J.A.R.V.I.S. is an artificial \n",
    "intelligence created by Tony Stark, who later controls his Iron Man and \n",
    "Hulkbuster armor for him.''', bg = 'grey',fg = 'white',padx = 23,pady = 55,font ='timesnewroman 12 bold',borderwidth = 10,relief = GROOVE)"
   ]
  },
  {
   "cell_type": "markdown",
   "id": "31fb39a2",
   "metadata": {},
   "source": [
    "Important Pack Options -->\n",
    "<li>anchor = nw,ne\n",
    "<li>side = top,bottom,left,right\n",
    "<li>fill =  x and y\n",
    "<li>padx =\n",
    "<li>pady ="
   ]
  },
  {
   "cell_type": "code",
   "execution_count": 5,
   "id": "d7a02af6",
   "metadata": {},
   "outputs": [],
   "source": [
    "# title.pack(anchor = 'nw')\n",
    "# title.pack(side = BOTTOM ,anchor = 'se',fill = X)\n",
    "title.pack(side = RIGHT,fill = Y)"
   ]
  },
  {
   "cell_type": "code",
   "execution_count": 6,
   "id": "0859035b",
   "metadata": {},
   "outputs": [],
   "source": [
    "root.mainloop()"
   ]
  }
 ],
 "metadata": {
  "kernelspec": {
   "display_name": "Python 3 (ipykernel)",
   "language": "python",
   "name": "python3"
  },
  "language_info": {
   "codemirror_mode": {
    "name": "ipython",
    "version": 3
   },
   "file_extension": ".py",
   "mimetype": "text/x-python",
   "name": "python",
   "nbconvert_exporter": "python",
   "pygments_lexer": "ipython3",
   "version": "3.11.1"
  }
 },
 "nbformat": 4,
 "nbformat_minor": 5
}
