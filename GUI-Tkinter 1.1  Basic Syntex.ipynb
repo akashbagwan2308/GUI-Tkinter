{
 "cells": [
  {
   "cell_type": "markdown",
   "id": "30730089",
   "metadata": {},
   "source": [
    "# Python GUI-Tkinter "
   ]
  },
  {
   "cell_type": "markdown",
   "id": "6cb54fe5",
   "metadata": {},
   "source": [
    "##### Tutorial - 1"
   ]
  },
  {
   "cell_type": "markdown",
   "id": "bea8561c",
   "metadata": {},
   "source": [
    "\n",
    "<li>Tk() - widget tool kit\n",
    "<li>Tkinter - python interface"
   ]
  },
  {
   "cell_type": "markdown",
   "id": "4d7464cb",
   "metadata": {},
   "source": [
    "##### Basic Syntex"
   ]
  },
  {
   "cell_type": "markdown",
   "id": "5cc4dbd6",
   "metadata": {},
   "source": [
    "from tkinter import *"
   ]
  },
  {
   "cell_type": "markdown",
   "id": "5e9d7eaf",
   "metadata": {},
   "source": [
    "root = Tk()  # it creats the basic gui / the base window for every thing"
   ]
  },
  {
   "cell_type": "markdown",
   "id": "8bc8915a",
   "metadata": {},
   "source": [
    "gui logic here ->"
   ]
  },
  {
   "cell_type": "markdown",
   "id": "33079c27",
   "metadata": {},
   "source": [
    "gui logic here ->"
   ]
  },
  {
   "cell_type": "markdown",
   "id": "c20319da",
   "metadata": {},
   "source": [
    "root.mainloop()  # it keeps the program in gui window"
   ]
  },
  {
   "cell_type": "markdown",
   "id": "01dd8389",
   "metadata": {},
   "source": [
    "# Our first GUI Program"
   ]
  },
  {
   "cell_type": "code",
   "execution_count": 1,
   "id": "09dfb1ad",
   "metadata": {},
   "outputs": [],
   "source": [
    "from tkinter import *"
   ]
  },
  {
   "cell_type": "code",
   "execution_count": 6,
   "id": "462abbda",
   "metadata": {},
   "outputs": [],
   "source": [
    "root = Tk()"
   ]
  },
  {
   "cell_type": "code",
   "execution_count": 7,
   "id": "e359fdf5",
   "metadata": {},
   "outputs": [],
   "source": [
    "# width x height\n",
    "root.geometry(\"320x500\")\n",
    "# width,height\n",
    "root.minsize(200,100) # it defines the minimum size of gui window\n",
    "# width,height\n",
    "# root.maxsize(1000,900)  # it defines the maximum size of gui window"
   ]
  },
  {
   "cell_type": "code",
   "execution_count": 8,
   "id": "447bd648",
   "metadata": {},
   "outputs": [],
   "source": [
    "# it provide title to window\n",
    "root.title('Calculator') \n",
    "label = Label(text= \"Standard\") # it helps to provide label/heading\n",
    "label.pack()# it shows the label(pack)"
   ]
  },
  {
   "cell_type": "code",
   "execution_count": 9,
   "id": "3678a03b",
   "metadata": {},
   "outputs": [],
   "source": [
    "root.mainloop()"
   ]
  },
  {
   "cell_type": "code",
   "execution_count": null,
   "id": "63955856",
   "metadata": {},
   "outputs": [],
   "source": []
  }
 ],
 "metadata": {
  "kernelspec": {
   "display_name": "Python 3 (ipykernel)",
   "language": "python",
   "name": "python3"
  },
  "language_info": {
   "codemirror_mode": {
    "name": "ipython",
    "version": 3
   },
   "file_extension": ".py",
   "mimetype": "text/x-python",
   "name": "python",
   "nbconvert_exporter": "python",
   "pygments_lexer": "ipython3",
   "version": "3.11.1"
  }
 },
 "nbformat": 4,
 "nbformat_minor": 5
}
