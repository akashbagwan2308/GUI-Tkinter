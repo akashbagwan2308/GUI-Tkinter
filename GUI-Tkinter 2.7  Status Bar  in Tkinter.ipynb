{
 "cells": [
  {
   "cell_type": "markdown",
   "id": "81f3a5a7",
   "metadata": {},
   "source": [
    "# Python GUI-Tkinter "
   ]
  },
  {
   "cell_type": "markdown",
   "id": "7f9ddff1",
   "metadata": {},
   "source": [
    "##### Tutorial - 17"
   ]
  },
  {
   "cell_type": "markdown",
   "id": "57203d6c",
   "metadata": {},
   "source": [
    "## Status Bar  in Tkinter"
   ]
  },
  {
   "cell_type": "code",
   "execution_count": 1,
   "id": "5012423d",
   "metadata": {},
   "outputs": [],
   "source": [
    "from tkinter import *"
   ]
  },
  {
   "cell_type": "code",
   "execution_count": 2,
   "id": "c67178fb",
   "metadata": {},
   "outputs": [],
   "source": [
    "root = Tk()"
   ]
  },
  {
   "cell_type": "code",
   "execution_count": 3,
   "id": "5ebdc3c7",
   "metadata": {},
   "outputs": [],
   "source": [
    "def update():\n",
    "    status.set('Busy...')\n",
    "    sbar.update()\n",
    "    import time\n",
    "    time.sleep(2)\n",
    "    status.set('Ready')"
   ]
  },
  {
   "cell_type": "code",
   "execution_count": 4,
   "id": "048b07f8",
   "metadata": {},
   "outputs": [],
   "source": [
    "root.geometry('655x333')\n",
    "root.title('Status bar Tuts')\n",
    "\n",
    "status = StringVar()\n",
    "status.set('Ready')\n",
    "\n",
    "sbar = Label(root,textvariable = status,relief = SUNKEN,anchor = 'w')\n",
    "sbar.pack(side=BOTTOM,fill = X)\n",
    "\n",
    "Button(root,text='Upload',command = update).pack()"
   ]
  },
  {
   "cell_type": "code",
   "execution_count": 5,
   "id": "ddad0293",
   "metadata": {},
   "outputs": [],
   "source": [
    "root.mainloop()"
   ]
  },
  {
   "cell_type": "code",
   "execution_count": null,
   "id": "d3961576",
   "metadata": {},
   "outputs": [],
   "source": []
  }
 ],
 "metadata": {
  "kernelspec": {
   "display_name": "Python 3 (ipykernel)",
   "language": "python",
   "name": "python3"
  },
  "language_info": {
   "codemirror_mode": {
    "name": "ipython",
    "version": 3
   },
   "file_extension": ".py",
   "mimetype": "text/x-python",
   "name": "python",
   "nbconvert_exporter": "python",
   "pygments_lexer": "ipython3",
   "version": "3.11.1"
  }
 },
 "nbformat": 4,
 "nbformat_minor": 5
}
