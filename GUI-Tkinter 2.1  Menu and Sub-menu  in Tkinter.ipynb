{
 "cells": [
  {
   "cell_type": "markdown",
   "id": "81f3a5a7",
   "metadata": {},
   "source": [
    "# Python GUI-Tkinter "
   ]
  },
  {
   "cell_type": "markdown",
   "id": "7f9ddff1",
   "metadata": {},
   "source": [
    "##### Tutorial - 11"
   ]
  },
  {
   "cell_type": "markdown",
   "id": "57203d6c",
   "metadata": {},
   "source": [
    "## Menu and Sub-menu  in Tkinter"
   ]
  },
  {
   "cell_type": "code",
   "execution_count": 1,
   "id": "5012423d",
   "metadata": {},
   "outputs": [],
   "source": [
    "from tkinter import *"
   ]
  },
  {
   "cell_type": "code",
   "execution_count": 2,
   "id": "c67178fb",
   "metadata": {},
   "outputs": [],
   "source": [
    "root = Tk()"
   ]
  },
  {
   "cell_type": "code",
   "execution_count": 3,
   "id": "5ebdc3c7",
   "metadata": {},
   "outputs": [],
   "source": [
    "def myfunc():\n",
    "    print(\"Me ek bahut hi natkhat aur shaitan function hu\")"
   ]
  },
  {
   "cell_type": "code",
   "execution_count": 4,
   "id": "048b07f8",
   "metadata": {},
   "outputs": [],
   "source": [
    "root.geometry('733x566')\n",
    "root.title(\"Pycharm\")\n",
    "# use these to create a non dropdown menu\n",
    "# menu = Menu(root)\n",
    "# menu.add_command(label = 'File',command = myfunc)\n",
    "# menu.add_command(label = 'Exit',command = quit)\n",
    "# root.config(menu = menu)\n",
    "\n",
    "filemenu = Menu(root)\n",
    "m1 = Menu(filemenu,tearoff = 0)\n",
    "m1.add_command(label = \"New Project\",command=myfunc)\n",
    "m1.add_command(label = \"Save\",command=myfunc)\n",
    "m1.add_separator() ## to add seperator\n",
    "m1.add_command(label = \"Save as\",command=myfunc)\n",
    "m1.add_command(label = \"Print\",command=myfunc)\n",
    "root.config(menu=filemenu)\n",
    "filemenu.add_cascade(label ='File',menu =m1)\n",
    "\n",
    "m2 = Menu(filemenu,tearoff = 0)\n",
    "m2.add_command(label = \"Cut\",command=myfunc)\n",
    "m2.add_command(label = \"Copy\",command=myfunc)\n",
    "m2.add_separator() ## to add seperator\n",
    "m2.add_command(label = \"Paste\",command=myfunc)\n",
    "m2.add_command(label = \"Find\",command=myfunc)\n",
    "root.config(menu=filemenu)\n",
    "filemenu.add_cascade(label ='Edit',menu =m2)\n"
   ]
  },
  {
   "cell_type": "code",
   "execution_count": 5,
   "id": "ddad0293",
   "metadata": {},
   "outputs": [],
   "source": [
    "root.mainloop()"
   ]
  },
  {
   "cell_type": "code",
   "execution_count": null,
   "id": "d3961576",
   "metadata": {},
   "outputs": [],
   "source": []
  }
 ],
 "metadata": {
  "kernelspec": {
   "display_name": "Python 3 (ipykernel)",
   "language": "python",
   "name": "python3"
  },
  "language_info": {
   "codemirror_mode": {
    "name": "ipython",
    "version": 3
   },
   "file_extension": ".py",
   "mimetype": "text/x-python",
   "name": "python",
   "nbconvert_exporter": "python",
   "pygments_lexer": "ipython3",
   "version": "3.11.1"
  }
 },
 "nbformat": 4,
 "nbformat_minor": 5
}
