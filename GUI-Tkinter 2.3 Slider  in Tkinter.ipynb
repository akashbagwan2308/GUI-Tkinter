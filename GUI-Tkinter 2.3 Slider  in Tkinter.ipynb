{
 "cells": [
  {
   "cell_type": "markdown",
   "id": "81f3a5a7",
   "metadata": {},
   "source": [
    "# Python GUI-Tkinter "
   ]
  },
  {
   "cell_type": "markdown",
   "id": "7f9ddff1",
   "metadata": {},
   "source": [
    "##### Tutorial - 13"
   ]
  },
  {
   "cell_type": "markdown",
   "id": "57203d6c",
   "metadata": {},
   "source": [
    "## Slider  in Tkinter"
   ]
  },
  {
   "cell_type": "code",
   "execution_count": 1,
   "id": "5012423d",
   "metadata": {},
   "outputs": [],
   "source": [
    "from tkinter import *\n",
    "import tkinter.messagebox as tmsg"
   ]
  },
  {
   "cell_type": "code",
   "execution_count": 2,
   "id": "c67178fb",
   "metadata": {},
   "outputs": [],
   "source": [
    "root = Tk()"
   ]
  },
  {
   "cell_type": "code",
   "execution_count": 3,
   "id": "5ebdc3c7",
   "metadata": {},
   "outputs": [],
   "source": [
    "def dollors():\n",
    "    print(f\"we have credited {sly2.get()} dollors to your bank\")\n",
    "    tmsg.showinfo('Congratulations!!!',f\"we have credited {sly2.get()} dollors to your bank\")\n",
    "    "
   ]
  },
  {
   "cell_type": "code",
   "execution_count": 4,
   "id": "048b07f8",
   "metadata": {},
   "outputs": [],
   "source": [
    "root.geometry('555x333')\n",
    "root.title('Slider Tutorial')\n",
    "\n",
    "# sly = Scale(root,from_=0,to= 100)\n",
    "# sly.pack()\n",
    "Label(root,text='How many dollors you want?').pack()\n",
    "\n",
    "sly2 = Scale(root,from_=0,to=100,orient = HORIZONTAL)\n",
    "# sly2.set(34)\n",
    "sly2.pack()\n",
    "\n",
    "Button(root,text = ' Get Dollors!',command = dollors).pack()"
   ]
  },
  {
   "cell_type": "code",
   "execution_count": 5,
   "id": "ddad0293",
   "metadata": {},
   "outputs": [
    {
     "name": "stdout",
     "output_type": "stream",
     "text": [
      "we have credited 100 dollors to your bank\n"
     ]
    }
   ],
   "source": [
    "root.mainloop()"
   ]
  },
  {
   "cell_type": "code",
   "execution_count": null,
   "id": "d3961576",
   "metadata": {},
   "outputs": [],
   "source": []
  }
 ],
 "metadata": {
  "kernelspec": {
   "display_name": "Python 3 (ipykernel)",
   "language": "python",
   "name": "python3"
  },
  "language_info": {
   "codemirror_mode": {
    "name": "ipython",
    "version": 3
   },
   "file_extension": ".py",
   "mimetype": "text/x-python",
   "name": "python",
   "nbconvert_exporter": "python",
   "pygments_lexer": "ipython3",
   "version": "3.11.1"
  }
 },
 "nbformat": 4,
 "nbformat_minor": 5
}
