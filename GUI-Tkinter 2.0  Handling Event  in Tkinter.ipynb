{
 "cells": [
  {
   "cell_type": "markdown",
   "id": "81f3a5a7",
   "metadata": {},
   "source": [
    "# Python GUI-Tkinter "
   ]
  },
  {
   "cell_type": "markdown",
   "id": "7f9ddff1",
   "metadata": {},
   "source": [
    "##### Tutorial - 10"
   ]
  },
  {
   "cell_type": "markdown",
   "id": "57203d6c",
   "metadata": {},
   "source": [
    "## Handling Event  in Tkinter"
   ]
  },
  {
   "cell_type": "code",
   "execution_count": 1,
   "id": "5012423d",
   "metadata": {},
   "outputs": [],
   "source": [
    "from tkinter import *"
   ]
  },
  {
   "cell_type": "code",
   "execution_count": 2,
   "id": "c67178fb",
   "metadata": {},
   "outputs": [],
   "source": [
    "root = Tk()"
   ]
  },
  {
   "cell_type": "code",
   "execution_count": 3,
   "id": "49d6d3d1",
   "metadata": {},
   "outputs": [],
   "source": [
    "def akash(event):\n",
    "    print(f\"You clicked on button at event {event.x},{event.y}\")"
   ]
  },
  {
   "cell_type": "code",
   "execution_count": 4,
   "id": "048b07f8",
   "metadata": {},
   "outputs": [
    {
     "data": {
      "text/plain": [
       "'2139646702208'"
      ]
     },
     "execution_count": 4,
     "metadata": {},
     "output_type": "execute_result"
    }
   ],
   "source": [
    "root.geometry('655x333')\n",
    "root.title('Events Handling')\n",
    "\n",
    "w = Button(root,text =' Click me please')\n",
    "w.pack()\n",
    "\n",
    "w.bind('<Button-1>',akash)\n",
    "w.bind('<Double-1>',quit)\n"
   ]
  },
  {
   "cell_type": "code",
   "execution_count": null,
   "id": "ddad0293",
   "metadata": {},
   "outputs": [
    {
     "name": "stdout",
     "output_type": "stream",
     "text": [
      "You clicked on button at event 57,15\n",
      "You clicked on button at event 57,15\n",
      "You clicked on button at event 57,15\n",
      "You clicked on button at event 57,15\n",
      "You clicked on button at event 83,8\n",
      "You clicked on button at event 62,18\n",
      "You clicked on button at event 59,10\n",
      "You clicked on button at event 59,10\n",
      "You clicked on button at event 59,10\n",
      "You clicked on button at event 80,12\n"
     ]
    }
   ],
   "source": [
    "root.mainloop()"
   ]
  },
  {
   "cell_type": "code",
   "execution_count": null,
   "id": "d3961576",
   "metadata": {},
   "outputs": [],
   "source": []
  }
 ],
 "metadata": {
  "kernelspec": {
   "display_name": "Python 3 (ipykernel)",
   "language": "python",
   "name": "python3"
  },
  "language_info": {
   "codemirror_mode": {
    "name": "ipython",
    "version": 3
   },
   "file_extension": ".py",
   "mimetype": "text/x-python",
   "name": "python",
   "nbconvert_exporter": "python",
   "pygments_lexer": "ipython3",
   "version": "3.11.1"
  }
 },
 "nbformat": 4,
 "nbformat_minor": 5
}
