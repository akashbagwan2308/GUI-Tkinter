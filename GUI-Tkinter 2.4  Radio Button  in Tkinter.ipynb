{
 "cells": [
  {
   "cell_type": "markdown",
   "id": "81f3a5a7",
   "metadata": {},
   "source": [
    "# Python GUI-Tkinter "
   ]
  },
  {
   "cell_type": "markdown",
   "id": "7f9ddff1",
   "metadata": {},
   "source": [
    "##### Tutorial - 14"
   ]
  },
  {
   "cell_type": "markdown",
   "id": "57203d6c",
   "metadata": {},
   "source": [
    "## Radio Button  in Tkinter"
   ]
  },
  {
   "cell_type": "code",
   "execution_count": 1,
   "id": "5012423d",
   "metadata": {},
   "outputs": [],
   "source": [
    "from tkinter import *\n",
    "import tkinter.messagebox as tmsg"
   ]
  },
  {
   "cell_type": "code",
   "execution_count": 2,
   "id": "c67178fb",
   "metadata": {},
   "outputs": [],
   "source": [
    "root = Tk()"
   ]
  },
  {
   "cell_type": "code",
   "execution_count": 3,
   "id": "5ebdc3c7",
   "metadata": {},
   "outputs": [],
   "source": [
    "food = ['samosa','kachori','khaman','jalebi','fafda','poha']\n",
    "def order():\n",
    "    tmsg.showinfo('Order Received !',f'We have received your order for {food[var.get()-1]},Thanks for ordering')"
   ]
  },
  {
   "cell_type": "code",
   "execution_count": 4,
   "id": "048b07f8",
   "metadata": {},
   "outputs": [],
   "source": [
    "root.geometry('655x333')\n",
    "root.title('Radio Button Tutorial')\n",
    "var = IntVar()\n",
    "# var.set(1)\n",
    "Label(root,text = 'What would you like to have sir ?',font = 'lucida 19 bold', justify = LEFT,padx = 14).pack()\n",
    "for i in range(len(food)):\n",
    "    radio = Radiobutton(root,text = food[i],padx = 14,variable = var,value =i+1).pack(anchor = 'w')\n",
    "\n",
    "Button(text='Order Now',command= order).pack()\n",
    "\n"
   ]
  },
  {
   "cell_type": "code",
   "execution_count": 5,
   "id": "ddad0293",
   "metadata": {},
   "outputs": [],
   "source": [
    "root.mainloop()"
   ]
  },
  {
   "cell_type": "code",
   "execution_count": null,
   "id": "d3961576",
   "metadata": {},
   "outputs": [],
   "source": []
  }
 ],
 "metadata": {
  "kernelspec": {
   "display_name": "Python 3 (ipykernel)",
   "language": "python",
   "name": "python3"
  },
  "language_info": {
   "codemirror_mode": {
    "name": "ipython",
    "version": 3
   },
   "file_extension": ".py",
   "mimetype": "text/x-python",
   "name": "python",
   "nbconvert_exporter": "python",
   "pygments_lexer": "ipython3",
   "version": "3.11.1"
  }
 },
 "nbformat": 4,
 "nbformat_minor": 5
}
