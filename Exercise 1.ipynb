{
 "cells": [
  {
   "cell_type": "markdown",
   "id": "e891095c",
   "metadata": {},
   "source": [
    "# Python GUI-Tkinter "
   ]
  },
  {
   "cell_type": "markdown",
   "id": "24359e22",
   "metadata": {},
   "source": [
    "##### Tutorial - 4"
   ]
  },
  {
   "cell_type": "markdown",
   "id": "484c28e3",
   "metadata": {},
   "source": [
    "## Newapaper GUI "
   ]
  },
  {
   "cell_type": "code",
   "execution_count": 1,
   "id": "c5248ac9",
   "metadata": {},
   "outputs": [],
   "source": [
    "from tkinter import *\n",
    "from PIL import Image,ImageTk"
   ]
  },
  {
   "cell_type": "code",
   "execution_count": 2,
   "id": "5c21da21",
   "metadata": {},
   "outputs": [],
   "source": [
    "root = Tk()"
   ]
  },
  {
   "cell_type": "code",
   "execution_count": 3,
   "id": "5f164a59",
   "metadata": {},
   "outputs": [],
   "source": [
    "def every_100(text):\n",
    "    final_text = ''\n",
    "    for i in range(0,len(text)):\n",
    "        final_text +=text[i]\n",
    "        if i%250  ==0 and i !=0:\n",
    "            final_text +=\"\\n\"\n",
    "    return final_text"
   ]
  },
  {
   "cell_type": "code",
   "execution_count": 4,
   "id": "a9056581",
   "metadata": {},
   "outputs": [
    {
     "name": "stderr",
     "output_type": "stream",
     "text": [
      "C:\\Users\\Admin\\AppData\\Local\\Temp\\ipykernel_10312\\3302288621.py:11: DeprecationWarning: ANTIALIAS is deprecated and will be removed in Pillow 10 (2023-07-01). Use Resampling.LANCZOS instead.\n",
      "  image = image.resize((200,150),Image.ANTIALIAS)\n"
     ]
    }
   ],
   "source": [
    "root.geometry('600x600')\n",
    "root.title(\"CodeWithHarry News\")\n",
    "texts = []\n",
    "photos = []\n",
    "for i in range(0,4):\n",
    "    with open(f\"txt{i+1}.txt\")as f:\n",
    "        text = f.read()\n",
    "        texts.append(every_100(text))\n",
    "    image = Image.open(f'{i+1}.png')\n",
    "    # TODO :resize these images\n",
    "    image = image.resize((200,150),Image.ANTIALIAS)\n",
    "    photos.append(ImageTk.PhotoImage(image))\n",
    "\n",
    "f0 = Frame(root,width = 800,height = 70)\n",
    "Label(f0,text = 'Code With Harry News',font ='lucida 33 bold').pack()\n",
    "Label(f0,text = 'Thursday Dec 23, 2022',font ='lucida 23 bold').pack()\n",
    "f0.pack()"
   ]
  },
  {
   "cell_type": "code",
   "execution_count": 5,
   "id": "eb4ef98c",
   "metadata": {},
   "outputs": [],
   "source": [
    "f1 = Frame(root,width = 900,height=200,borderwidth = 8,relief = GROOVE)\n",
    "Label(f1,text = texts[0],padx =8,pady = 8).pack(side = LEFT)\n",
    "Label(f1,image = photos[0],anchor = 'e').pack(side= LEFT)\n",
    "f1.pack(anchor ='w')\n"
   ]
  },
  {
   "cell_type": "code",
   "execution_count": 6,
   "id": "124577de",
   "metadata": {},
   "outputs": [],
   "source": [
    "f3 = Frame(root,width = 900,height=200,borderwidth = 8,relief = GROOVE)\n",
    "Label(f3,text = texts[2],padx =8,pady = 8).pack(side = RIGHT)\n",
    "Label(f3,image = photos[2],anchor = 'w').pack(side= RIGHT)\n",
    "f3.pack(anchor ='e')"
   ]
  },
  {
   "cell_type": "code",
   "execution_count": 7,
   "id": "21f3132b",
   "metadata": {},
   "outputs": [],
   "source": [
    "f4 = Frame(root,width = 900,height=200,borderwidth = 8,relief = GROOVE)\n",
    "Label(f4,text = texts[3],padx =8,pady = 8).pack(side = LEFT)\n",
    "Label(f4,image = photos[3],anchor = 'e').pack(side= LEFT)\n",
    "f4.pack(anchor ='w')"
   ]
  },
  {
   "cell_type": "code",
   "execution_count": 8,
   "id": "c0b1190a",
   "metadata": {},
   "outputs": [],
   "source": [
    "f2 = Frame(root,width = 900,height=200,borderwidth = 8,relief = GROOVE)\n",
    "Label(f2,text = texts[1],padx =8,pady = 8).pack(side = RIGHT)\n",
    "Label(f2,image = photos[1],anchor = 'w').pack(side= RIGHT)\n",
    "f2.pack(anchor ='e')"
   ]
  },
  {
   "cell_type": "code",
   "execution_count": 9,
   "id": "52a473b2",
   "metadata": {},
   "outputs": [],
   "source": [
    "root.mainloop()"
   ]
  }
 ],
 "metadata": {
  "kernelspec": {
   "display_name": "Python 3 (ipykernel)",
   "language": "python",
   "name": "python3"
  },
  "language_info": {
   "codemirror_mode": {
    "name": "ipython",
    "version": 3
   },
   "file_extension": ".py",
   "mimetype": "text/x-python",
   "name": "python",
   "nbconvert_exporter": "python",
   "pygments_lexer": "ipython3",
   "version": "3.11.1"
  }
 },
 "nbformat": 4,
 "nbformat_minor": 5
}
