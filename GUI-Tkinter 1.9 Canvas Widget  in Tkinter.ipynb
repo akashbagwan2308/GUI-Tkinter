{
 "cells": [
  {
   "cell_type": "markdown",
   "id": "81f3a5a7",
   "metadata": {},
   "source": [
    "# Python GUI-Tkinter "
   ]
  },
  {
   "cell_type": "markdown",
   "id": "7f9ddff1",
   "metadata": {},
   "source": [
    "##### Tutorial - 9"
   ]
  },
  {
   "cell_type": "markdown",
   "id": "57203d6c",
   "metadata": {},
   "source": [
    "## Canvas Widget  in Tkinter"
   ]
  },
  {
   "cell_type": "code",
   "execution_count": 1,
   "id": "5012423d",
   "metadata": {},
   "outputs": [],
   "source": [
    "from tkinter import *"
   ]
  },
  {
   "cell_type": "code",
   "execution_count": 2,
   "id": "c67178fb",
   "metadata": {},
   "outputs": [],
   "source": [
    "root = Tk()"
   ]
  },
  {
   "cell_type": "code",
   "execution_count": 3,
   "id": "048b07f8",
   "metadata": {},
   "outputs": [
    {
     "data": {
      "text/plain": [
       "4"
      ]
     },
     "execution_count": 3,
     "metadata": {},
     "output_type": "execute_result"
    }
   ],
   "source": [
    "canvasH = 400\n",
    "canvasW = 800\n",
    "root.geometry(f'{canvasW}x{canvasH}')\n",
    "root.title('Canvas GUI')\n",
    "can_widget = Canvas(root,width = canvasW,height = canvasH)\n",
    "can_widget.pack()\n",
    "\n",
    "# the line goes from x1,y2 to x2,y2\n",
    "# can_widget.create_line(0,0,800,400,fill = 'red')\n",
    "# can_widget.create_line(0,400,800,0,fill = 'blue')\n",
    "\n",
    "# top left = 1,1 , bottom right = 200,200\n",
    "can_widget.create_rectangle(3,5,700,300, fill = 'violet')\n",
    "# to create text \n",
    "can_widget.create_text(200,200,text = 'python')\n",
    "# create oval\n",
    "can_widget.create_oval(7,8,500,300)\n",
    "# create circle\n",
    "can_widget.create_oval(20,20,200,200)\n"
   ]
  },
  {
   "cell_type": "code",
   "execution_count": 4,
   "id": "ddad0293",
   "metadata": {},
   "outputs": [],
   "source": [
    "root.mainloop()"
   ]
  },
  {
   "cell_type": "code",
   "execution_count": null,
   "id": "d3961576",
   "metadata": {},
   "outputs": [],
   "source": []
  }
 ],
 "metadata": {
  "kernelspec": {
   "display_name": "Python 3 (ipykernel)",
   "language": "python",
   "name": "python3"
  },
  "language_info": {
   "codemirror_mode": {
    "name": "ipython",
    "version": 3
   },
   "file_extension": ".py",
   "mimetype": "text/x-python",
   "name": "python",
   "nbconvert_exporter": "python",
   "pygments_lexer": "ipython3",
   "version": "3.11.1"
  }
 },
 "nbformat": 4,
 "nbformat_minor": 5
}
